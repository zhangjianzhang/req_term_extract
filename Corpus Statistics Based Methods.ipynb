{
 "cells": [
  {
   "cell_type": "code",
   "execution_count": 4,
   "metadata": {},
   "outputs": [],
   "source": [
    "# import nltk and related libraries\n",
    "import nltk\n",
    "from nltk.collocations import * "
   ]
  },
  {
   "cell_type": "code",
   "execution_count": 5,
   "metadata": {},
   "outputs": [],
   "source": [
    "# loading example documentation\n",
    "with open('example_text.txt','r',encoding=\"utf-16\") as t:\n",
    "    example = t.read().replace('\\n',' ').replace(',',' ').replace(\"\\\\'t\",\"'t\").split()\n"
   ]
  },
  {
   "cell_type": "code",
   "execution_count": 6,
   "metadata": {},
   "outputs": [],
   "source": [
    "# creating a binary group associativity metric object\n",
    "bigram_measures = nltk.collocations.BigramAssocMeasures()\n",
    "# find all binary groups from the example\n",
    "finder = BigramCollocationFinder.from_words(example)\n",
    "# filter out groups with less than 2 occurrences\n",
    "finder.apply_freq_filter(2)\n",
    "# filtering out words less than 3 in length\n",
    "finder.apply_word_filter(lambda w: len(w) < 3)\n"
   ]
  },
  {
   "cell_type": "code",
   "execution_count": 7,
   "metadata": {},
   "outputs": [
    {
     "data": {
      "text/plain": [
       "[('GPS', 'location)'),\n",
       " ('Internet', 'connection.'),\n",
       " ('allergy', 'sufferer'),\n",
       " ('pooper', 'scooper'),\n",
       " ('vice', 'versa'),\n",
       " ('anabolic', 'state'),\n",
       " ('reasonable', 'hour.As'),\n",
       " ('tension', 'free..As'),\n",
       " ('vital', 'signs'),\n",
       " ('parcel', 'package-related')]"
      ]
     },
     "execution_count": 7,
     "metadata": {},
     "output_type": "execute_result"
    }
   ],
   "source": [
    "# use the PMI to find the best 10 word pairs\n",
    "finder.nbest(bigram_measures.pmi, 10) "
   ]
  },
  {
   "cell_type": "code",
   "execution_count": 8,
   "metadata": {},
   "outputs": [
    {
     "data": {
      "text/plain": [
       "[('GPS', 'location)'),\n",
       " ('Internet', 'connection.'),\n",
       " ('allergy', 'sufferer'),\n",
       " ('pooper', 'scooper'),\n",
       " ('vice', 'versa'),\n",
       " ('anabolic', 'state'),\n",
       " ('reasonable', 'hour.As'),\n",
       " ('tension', 'free..As'),\n",
       " ('vital', 'signs'),\n",
       " ('carbon', 'monoxide')]"
      ]
     },
     "execution_count": 8,
     "metadata": {},
     "output_type": "execute_result"
    }
   ],
   "source": [
    "# use the chi-square statistic to find the best 10 word pairs\n",
    "finder.nbest(bigram_measures.chi_sq, 10)"
   ]
  },
  {
   "cell_type": "code",
   "execution_count": 9,
   "metadata": {},
   "outputs": [
    {
     "data": {
      "text/plain": [
       "[('home', 'occupant'),\n",
       " ('home', 'owner'),\n",
       " ('smart', 'home'),\n",
       " (\"don't\", 'have'),\n",
       " ('pet', 'owner'),\n",
       " ('the', 'house'),\n",
       " ('can', 'save'),\n",
       " ('turn', 'off'),\n",
       " ('worry', 'about'),\n",
       " ('know', 'when')]"
      ]
     },
     "execution_count": 9,
     "metadata": {},
     "output_type": "execute_result"
    }
   ],
   "source": [
    "# use the likelihood ratios to find the best 10 word pairs\n",
    "finder.nbest(bigram_measures.likelihood_ratio, 10)"
   ]
  },
  {
   "cell_type": "code",
   "execution_count": 10,
   "metadata": {},
   "outputs": [
    {
     "data": {
      "text/plain": [
       "[('home', 'occupant'),\n",
       " ('home', 'owner'),\n",
       " ('smart', 'home'),\n",
       " ('the', 'house'),\n",
       " (\"don't\", 'have'),\n",
       " ('pet', 'owner'),\n",
       " ('can', 'save'),\n",
       " ('know', 'when'),\n",
       " ('turn', 'off'),\n",
       " ('the', 'temperature')]"
      ]
     },
     "execution_count": 10,
     "metadata": {},
     "output_type": "execute_result"
    }
   ],
   "source": [
    "# use the t statistic to find the best 10 word pairs\n",
    "finder.nbest(bigram_measures.student_t, 10)"
   ]
  },
  {
   "cell_type": "code",
   "execution_count": null,
   "metadata": {},
   "outputs": [],
   "source": []
  }
 ],
 "metadata": {
  "kernelspec": {
   "display_name": "Python 3",
   "language": "python",
   "name": "python3"
  },
  "language_info": {
   "codemirror_mode": {
    "name": "ipython",
    "version": 3
   },
   "file_extension": ".py",
   "mimetype": "text/x-python",
   "name": "python",
   "nbconvert_exporter": "python",
   "pygments_lexer": "ipython3",
   "version": "3.11.1"
  },
  "orig_nbformat": 4
 },
 "nbformat": 4,
 "nbformat_minor": 2
}
