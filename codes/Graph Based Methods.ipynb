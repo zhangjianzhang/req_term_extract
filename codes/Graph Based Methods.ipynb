{
 "cells": [
  {
   "cell_type": "code",
   "execution_count": 8,
   "metadata": {},
   "outputs": [],
   "source": [
    "# if the pke library is not installed, run the following code\n",
    "# pip install git+https://github.com/boudinfl/pke.git\n",
    "# import the pke library\n",
    "import pke"
   ]
  },
  {
   "cell_type": "code",
   "execution_count": 6,
   "metadata": {},
   "outputs": [],
   "source": [
    "# loading example documentation\n",
    "with open('example_text.txt','r',encoding=\"utf-16\") as t:\n",
    "    example = t.read()"
   ]
  },
  {
   "cell_type": "code",
   "execution_count": 9,
   "metadata": {},
   "outputs": [
    {
     "data": {
      "text/plain": [
       "[('hot water heater automatical heat water', 0.027993650871747794),\n",
       " ('smart outdoor water system', 0.025375271958094327),\n",
       " ('time shedule arrange remote watering system', 0.022457206243602246),\n",
       " ('ultimate secure smart home', 0.020726785667447834),\n",
       " ('smart light controls', 0.020513848372804736),\n",
       " ('smart video game system', 0.020489253776814806),\n",
       " ('smart water heater', 0.020422819193076567),\n",
       " ('smart home features', 0.020095969024004345),\n",
       " ('smart home owner', 0.019938064547032987),\n",
       " ('smart home devices', 0.019931193660500366)]"
      ]
     },
     "execution_count": 9,
     "metadata": {},
     "output_type": "execute_result"
    }
   ],
   "source": [
    "# initialize keyphrase extraction model, here TextRank\n",
    "extractor = pke.unsupervised.TextRank()\n",
    "# load the content of the document, here document is expected to be a \n",
    "# test string and preprocessing is carried out using spacy\n",
    "extractor.load_document(input=example,language='en')\n",
    "# perform candidate selection and weighting\n",
    "extractor.candidate_selection()\n",
    "extractor.candidate_weighting()\n",
    "# N-best selection, keyphrases contains the 10 highest scored candidates as\n",
    "# (keyphrase, score) tuples\n",
    "keyphrases = extractor.get_n_best(n=10)\n",
    "keyphrases"
   ]
  },
  {
   "cell_type": "code",
   "execution_count": null,
   "metadata": {},
   "outputs": [],
   "source": []
  }
 ],
 "metadata": {
  "kernelspec": {
   "display_name": "Python 3",
   "language": "python",
   "name": "python3"
  },
  "language_info": {
   "codemirror_mode": {
    "name": "ipython",
    "version": 3
   },
   "file_extension": ".py",
   "mimetype": "text/x-python",
   "name": "python",
   "nbconvert_exporter": "python",
   "pygments_lexer": "ipython3",
   "version": "3.11.1"
  },
  "orig_nbformat": 4
 },
 "nbformat": 4,
 "nbformat_minor": 2
}
